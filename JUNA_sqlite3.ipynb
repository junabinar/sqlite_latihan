{
  "nbformat": 4,
  "nbformat_minor": 0,
  "metadata": {
    "colab": {
      "provenance": [],
      "collapsed_sections": []
    },
    "kernelspec": {
      "name": "python3",
      "display_name": "Python 3"
    },
    "language_info": {
      "name": "python"
    }
  },
  "cells": [
    {
      "cell_type": "code",
      "execution_count": null,
      "metadata": {
        "id": "bt4AZhEDnt47"
      },
      "outputs": [],
      "source": [
        "import sqlite3\n",
        "import pandas as pd"
      ]
    },
    {
      "cell_type": "code",
      "source": [
        "def build_connection(path_to_db='/content/data.db', debug=False):\n",
        "    try:\n",
        "        conn = sqlite3.connect(path_to_db)\n",
        "        if debug is True:\n",
        "            print('connection established')\n",
        "        return conn\n",
        "    except Error as e:\n",
        "        if debug is True:\n",
        "            print('connection error ', e)    "
      ],
      "metadata": {
        "id": "T3dRNfkbo7Y6"
      },
      "execution_count": null,
      "outputs": []
    },
    {
      "cell_type": "code",
      "source": [
        "\"\"\"\n",
        "build_table == fungsi membuat tabel di database\n",
        "\"\"\"\n",
        "def build_table(debug=False):\n",
        "    conn = build_connection(debug=debug)\n",
        "    cursor = conn.cursor()\n",
        "    header_table = \"\"\"CREATE TABLE IF NOT EXISTS transactions (\n",
        "                        id integer,\n",
        "                        insert_time timestamp,\n",
        "                        tx_amount float,\n",
        "                        tx_type string,\n",
        "                        status string\n",
        "                        );\"\"\"\n",
        "    # Create table and its columns\n",
        "    cursor.execute(header_table)\n"
      ],
      "metadata": {
        "id": "O6bL0DV-pCu0"
      },
      "execution_count": null,
      "outputs": []
    },
    {
      "cell_type": "code",
      "source": [
        "\"\"\"\n",
        "insert_table() == fungsi mengisi table di database\n",
        "\"\"\"\n",
        "def insert_table(debug=False):\n",
        "    conn = build_connection(debug=debug)\n",
        "    cursor = conn.cursor()\n",
        "\n",
        "    sql_insertion = '''INSERT INTO transactions(id, insert_time, tx_amount, tx_type, status) VALUES (?, ?, ?, ?, ?);'''\n",
        "    datas = [\n",
        "             (1, '2021-01-01 11:25:00', 10, 'buy', 'open'),\n",
        "             (2, '2021-01-01 11:26:00', 20, 'sell', 'open'),\n",
        "             (1, '2021-01-01 11:25:40', 10, 'buy', 'closed'),\n",
        "             (3, '2021-01-01 11:30:00', 30, 'sell', 'closed'),\n",
        "             (2, '2021-01-01 11:30:40', 20, 'sell', 'closed')\n",
        "    ]\n",
        "\n",
        "    for data in datas:\n",
        "        cursor.execute(sql_insertion, data)\n",
        "    conn.commit()\n",
        "    conn.close()\n"
      ],
      "metadata": {
        "id": "lIJermPCpq4B"
      },
      "execution_count": null,
      "outputs": []
    },
    {
      "cell_type": "code",
      "source": [
        "def show_table(debug=False):\n",
        "    conn = build_connection(debug=debug)\n",
        "    \n",
        "    insert_query = \"\"\"SELECT * FROM transactions GROUP BY id HAVING MAX(insert_time)\"\"\"\n",
        "    df = pd.read_sql_query(insert_query, conn)\n",
        "    pd.set_option(\"display.max_rows\", None, \"display.max_columns\", None)\n",
        "    conn.close()\n",
        "    print(df.to_string(index=False))\n",
        "\n",
        "if __name__=='__main__':\n",
        "    build_table()\n",
        "    insert_table()\n",
        "    show_table()"
      ],
      "metadata": {
        "colab": {
          "base_uri": "https://localhost:8080/"
        },
        "id": "YzQA-oY-ptNc",
        "outputId": "e5837d66-abdf-4912-e19b-ea6c3a7e426b"
      },
      "execution_count": null,
      "outputs": [
        {
          "output_type": "stream",
          "name": "stdout",
          "text": [
            " id         insert_time  tx_amount tx_type status\n",
            "  1 2021-01-01 11:25:40       10.0     buy closed\n",
            "  2 2021-01-01 11:30:40       20.0    sell closed\n",
            "  3 2021-01-01 11:30:00       30.0    sell closed\n"
          ]
        }
      ]
    },
    {
      "cell_type": "code",
      "source": [
        "def show_table(debug=False):\n",
        "    conn = build_connection(debug=debug)\n",
        "    \n",
        "    insert_query = \"\"\"SELECT * FROM transactions GROUP BY id HAVING MAX(insert_time)\"\"\"\n",
        "    df = pd.read_sql_query(insert_query, conn)\n",
        "    pd.set_option(\"display.max_rows\", None, \"display.max_columns\", None)\n",
        "    conn.close()\n",
        "    print(df.head())\n",
        "\n",
        "show_table()"
      ],
      "metadata": {
        "colab": {
          "base_uri": "https://localhost:8080/"
        },
        "id": "6AduiCBdrM1N",
        "outputId": "35f57f72-d530-452a-aae8-359bf06ff2d9"
      },
      "execution_count": null,
      "outputs": [
        {
          "output_type": "stream",
          "name": "stdout",
          "text": [
            "          username                                               text  \\\n",
            "0  kembarannyaimas  RT @septian: Sekadar mengingatkan: hasil uji k...   \n",
            "1     Rian170363Az  RT @MrsRachelIn: Vaksin corona tiba, Jokowi mi...   \n",
            "2         ayu_yude  RT @jokowi: Semenjak dari awal, saya mengingat...   \n",
            "3         cak_iwan  RT @septian: Sekadar mengingatkan: hasil uji k...   \n",
            "4        vayakikin  RT @AndreasMarbun_: tanggung jawab pemberantas...   \n",
            "\n",
            "  retweet_count  \n",
            "0             0  \n",
            "1             0  \n",
            "2             0  \n",
            "3             0  \n",
            "4             0  \n"
          ]
        }
      ]
    },
    {
      "cell_type": "code",
      "source": [
        "\"\"\"\n",
        "build_connection == fungsi membangun koneksi database,\n",
        "path_to_db == alamat database, \n",
        "jika bernilai None, maka secara otomatis akan membuat file *.db\n",
        "\"\"\"\n",
        "def build_connection(path_to_db='/content/sales_database.db', debug=False):\n",
        "    try:\n",
        "        conn = sqlite3.connect(path_to_db)\n",
        "        if debug is True:\n",
        "            print('connection established')\n",
        "        return conn\n",
        "    except Error as e:\n",
        "        if debug is True:\n",
        "            print('connection error ', e)    \n",
        "\n",
        "\"\"\"\n",
        "build_table == fungsi membuat tabel di database\n",
        "\"\"\"\n",
        "def build_table(debug=False):\n",
        "    conn = build_connection(debug=debug)\n",
        "    cursor = conn.cursor()\n",
        "    header_table = \"\"\"CREATE TABLE IF NOT EXISTS sales_database (\n",
        "                        date timestamp,\n",
        "                        sales integer\n",
        "                        );\"\"\"\n",
        "    # Create table and its columns\n",
        "    cursor.execute(header_table)\n",
        "\n",
        "\"\"\"\n",
        "insert_table() == fungsi mengisi table di database\n",
        "\"\"\"\n",
        "def insert_table(debug=False):\n",
        "    conn = build_connection(debug=debug)\n",
        "    cursor = conn.cursor()\n",
        "\n",
        "    sql_insertion = '''INSERT INTO sales_database(date, sales) VALUES (?, ?);'''\n",
        "    datas = [\n",
        "        ('2021-01-01', 100),\n",
        "        ('2021-01-02', 34),\n",
        "        ('2021-01-02', 123),\n",
        "        ('2021-01-02', 134),\n",
        "        ('2021-01-03', 145),\n",
        "        ('2021-01-03', 24),\n",
        "        ('2021-01-04', 541),\n",
        "        ('2021-01-04', 636),\n",
        "        ('2021-01-05', 322),\n",
        "        ('2021-01-06', 242),\n",
        "        ('2021-01-07', 22),\n",
        "        ('2021-01-08', 46)\n",
        "    ]\n",
        "\n",
        "    for data in datas:\n",
        "        cursor.execute(sql_insertion, data)\n",
        "    conn.commit()\n",
        "    conn.close()\n",
        "\n",
        "def show_table(debug=False):\n",
        "    conn = build_connection(debug=debug)\n",
        "    \n",
        "    insert_query = \"\"\"SELECT date, SUM(sales) as \"rolling sum\" FROM sales_database GROUP BY date\"\"\"\n",
        "    df = pd.read_sql_query(insert_query, conn)\n",
        "    pd.set_option(\"display.max_rows\", None, \"display.max_columns\", None)\n",
        "    conn.close()\n",
        "    print(df.to_string(index=False))\n",
        "\n",
        "if __name__=='__main__':\n",
        "    build_table()\n",
        "    insert_table()\n",
        "    show_table()"
      ],
      "metadata": {
        "id": "6NXSwhQVvKTQ"
      },
      "execution_count": null,
      "outputs": []
    }
  ]
}